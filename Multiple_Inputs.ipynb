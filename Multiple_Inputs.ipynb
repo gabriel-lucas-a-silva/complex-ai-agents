{
 "cells": [
  {
   "cell_type": "markdown",
   "id": "7083fdae",
   "metadata": {},
   "source": [
    "# Multiple Inputs"
   ]
  },
  {
   "cell_type": "code",
   "execution_count": 13,
   "id": "4527a496",
   "metadata": {},
   "outputs": [
    {
     "name": "stdout",
     "output_type": "stream",
     "text": [
      "Defaulting to user installation because normal site-packages is not writeable\n",
      "Requirement already satisfied: langgraph in /Users/gabrielsilva/Library/Python/3.9/lib/python/site-packages (0.4.8)\n",
      "Requirement already satisfied: langchain-core>=0.1 in /Users/gabrielsilva/Library/Python/3.9/lib/python/site-packages (from langgraph) (0.3.65)\n",
      "Requirement already satisfied: pydantic>=2.7.4 in /Users/gabrielsilva/Library/Python/3.9/lib/python/site-packages (from langgraph) (2.11.5)\n",
      "Requirement already satisfied: langgraph-checkpoint>=2.0.26 in /Users/gabrielsilva/Library/Python/3.9/lib/python/site-packages (from langgraph) (2.0.26)\n",
      "Requirement already satisfied: langgraph-sdk>=0.1.42 in /Users/gabrielsilva/Library/Python/3.9/lib/python/site-packages (from langgraph) (0.1.70)\n",
      "Requirement already satisfied: langgraph-prebuilt>=0.2.0 in /Users/gabrielsilva/Library/Python/3.9/lib/python/site-packages (from langgraph) (0.2.2)\n",
      "Requirement already satisfied: xxhash>=3.5.0 in /Users/gabrielsilva/Library/Python/3.9/lib/python/site-packages (from langgraph) (3.5.0)\n",
      "Requirement already satisfied: packaging<25,>=23.2 in /Users/gabrielsilva/Library/Python/3.9/lib/python/site-packages (from langchain-core>=0.1->langgraph) (24.2)\n",
      "Requirement already satisfied: tenacity!=8.4.0,<10.0.0,>=8.1.0 in /Users/gabrielsilva/Library/Python/3.9/lib/python/site-packages (from langchain-core>=0.1->langgraph) (9.1.2)\n",
      "Requirement already satisfied: jsonpatch<2.0,>=1.33 in /Users/gabrielsilva/Library/Python/3.9/lib/python/site-packages (from langchain-core>=0.1->langgraph) (1.33)\n",
      "Requirement already satisfied: typing-extensions>=4.7 in /Users/gabrielsilva/Library/Python/3.9/lib/python/site-packages (from langchain-core>=0.1->langgraph) (4.14.0)\n",
      "Requirement already satisfied: PyYAML>=5.3 in /Users/gabrielsilva/Library/Python/3.9/lib/python/site-packages (from langchain-core>=0.1->langgraph) (6.0.2)\n",
      "Requirement already satisfied: langsmith<0.4,>=0.3.45 in /Users/gabrielsilva/Library/Python/3.9/lib/python/site-packages (from langchain-core>=0.1->langgraph) (0.3.45)\n",
      "Requirement already satisfied: jsonpointer>=1.9 in /Users/gabrielsilva/Library/Python/3.9/lib/python/site-packages (from jsonpatch<2.0,>=1.33->langchain-core>=0.1->langgraph) (3.0.0)\n",
      "Requirement already satisfied: ormsgpack<2.0.0,>=1.8.0 in /Users/gabrielsilva/Library/Python/3.9/lib/python/site-packages (from langgraph-checkpoint>=2.0.26->langgraph) (1.10.0)\n",
      "Requirement already satisfied: httpx>=0.25.2 in /Users/gabrielsilva/Library/Python/3.9/lib/python/site-packages (from langgraph-sdk>=0.1.42->langgraph) (0.28.1)\n",
      "Requirement already satisfied: orjson>=3.10.1 in /Users/gabrielsilva/Library/Python/3.9/lib/python/site-packages (from langgraph-sdk>=0.1.42->langgraph) (3.10.18)\n",
      "Requirement already satisfied: certifi in /Users/gabrielsilva/Library/Python/3.9/lib/python/site-packages (from httpx>=0.25.2->langgraph-sdk>=0.1.42->langgraph) (2025.4.26)\n",
      "Requirement already satisfied: idna in /Users/gabrielsilva/Library/Python/3.9/lib/python/site-packages (from httpx>=0.25.2->langgraph-sdk>=0.1.42->langgraph) (3.10)\n",
      "Requirement already satisfied: anyio in /Users/gabrielsilva/Library/Python/3.9/lib/python/site-packages (from httpx>=0.25.2->langgraph-sdk>=0.1.42->langgraph) (4.9.0)\n",
      "Requirement already satisfied: httpcore==1.* in /Users/gabrielsilva/Library/Python/3.9/lib/python/site-packages (from httpx>=0.25.2->langgraph-sdk>=0.1.42->langgraph) (1.0.9)\n",
      "Requirement already satisfied: h11>=0.16 in /Users/gabrielsilva/Library/Python/3.9/lib/python/site-packages (from httpcore==1.*->httpx>=0.25.2->langgraph-sdk>=0.1.42->langgraph) (0.16.0)\n",
      "Requirement already satisfied: requests<3,>=2 in /Users/gabrielsilva/Library/Python/3.9/lib/python/site-packages (from langsmith<0.4,>=0.3.45->langchain-core>=0.1->langgraph) (2.32.4)\n",
      "Requirement already satisfied: zstandard<0.24.0,>=0.23.0 in /Users/gabrielsilva/Library/Python/3.9/lib/python/site-packages (from langsmith<0.4,>=0.3.45->langchain-core>=0.1->langgraph) (0.23.0)\n",
      "Requirement already satisfied: requests-toolbelt<2.0.0,>=1.0.0 in /Users/gabrielsilva/Library/Python/3.9/lib/python/site-packages (from langsmith<0.4,>=0.3.45->langchain-core>=0.1->langgraph) (1.0.0)\n",
      "Requirement already satisfied: annotated-types>=0.6.0 in /Users/gabrielsilva/Library/Python/3.9/lib/python/site-packages (from pydantic>=2.7.4->langgraph) (0.7.0)\n",
      "Requirement already satisfied: typing-inspection>=0.4.0 in /Users/gabrielsilva/Library/Python/3.9/lib/python/site-packages (from pydantic>=2.7.4->langgraph) (0.4.1)\n",
      "Requirement already satisfied: pydantic-core==2.33.2 in /Users/gabrielsilva/Library/Python/3.9/lib/python/site-packages (from pydantic>=2.7.4->langgraph) (2.33.2)\n",
      "Requirement already satisfied: charset_normalizer<4,>=2 in /Users/gabrielsilva/Library/Python/3.9/lib/python/site-packages (from requests<3,>=2->langsmith<0.4,>=0.3.45->langchain-core>=0.1->langgraph) (3.4.2)\n",
      "Requirement already satisfied: urllib3<3,>=1.21.1 in /Users/gabrielsilva/Library/Python/3.9/lib/python/site-packages (from requests<3,>=2->langsmith<0.4,>=0.3.45->langchain-core>=0.1->langgraph) (2.4.0)\n",
      "Requirement already satisfied: exceptiongroup>=1.0.2 in /Users/gabrielsilva/Library/Python/3.9/lib/python/site-packages (from anyio->httpx>=0.25.2->langgraph-sdk>=0.1.42->langgraph) (1.3.0)\n",
      "Requirement already satisfied: sniffio>=1.1 in /Users/gabrielsilva/Library/Python/3.9/lib/python/site-packages (from anyio->httpx>=0.25.2->langgraph-sdk>=0.1.42->langgraph) (1.3.1)\n",
      "\u001b[33mWARNING: You are using pip version 21.2.4; however, version 25.1.1 is available.\n",
      "You should consider upgrading via the '/Library/Developer/CommandLineTools/usr/bin/python3 -m pip install --upgrade pip' command.\u001b[0m\n",
      "Note: you may need to restart the kernel to use updated packages.\n",
      "Defaulting to user installation because normal site-packages is not writeable\n",
      "Requirement already satisfied: IPython in /Users/gabrielsilva/Library/Python/3.9/lib/python/site-packages (8.18.1)\n",
      "Requirement already satisfied: pexpect>4.3 in /Users/gabrielsilva/Library/Python/3.9/lib/python/site-packages (from IPython) (4.9.0)\n",
      "Requirement already satisfied: jedi>=0.16 in /Users/gabrielsilva/Library/Python/3.9/lib/python/site-packages (from IPython) (0.19.2)\n",
      "Requirement already satisfied: traitlets>=5 in /Users/gabrielsilva/Library/Python/3.9/lib/python/site-packages (from IPython) (5.14.3)\n",
      "Requirement already satisfied: exceptiongroup in /Users/gabrielsilva/Library/Python/3.9/lib/python/site-packages (from IPython) (1.3.0)\n",
      "Requirement already satisfied: decorator in /Users/gabrielsilva/Library/Python/3.9/lib/python/site-packages (from IPython) (5.2.1)\n",
      "Requirement already satisfied: matplotlib-inline in /Users/gabrielsilva/Library/Python/3.9/lib/python/site-packages (from IPython) (0.1.7)\n",
      "Requirement already satisfied: stack-data in /Users/gabrielsilva/Library/Python/3.9/lib/python/site-packages (from IPython) (0.6.3)\n",
      "Requirement already satisfied: prompt-toolkit<3.1.0,>=3.0.41 in /Users/gabrielsilva/Library/Python/3.9/lib/python/site-packages (from IPython) (3.0.51)\n",
      "Requirement already satisfied: typing-extensions in /Users/gabrielsilva/Library/Python/3.9/lib/python/site-packages (from IPython) (4.14.0)\n",
      "Requirement already satisfied: pygments>=2.4.0 in /Users/gabrielsilva/Library/Python/3.9/lib/python/site-packages (from IPython) (2.19.1)\n",
      "Requirement already satisfied: parso<0.9.0,>=0.8.4 in /Users/gabrielsilva/Library/Python/3.9/lib/python/site-packages (from jedi>=0.16->IPython) (0.8.4)\n",
      "Requirement already satisfied: ptyprocess>=0.5 in /Users/gabrielsilva/Library/Python/3.9/lib/python/site-packages (from pexpect>4.3->IPython) (0.7.0)\n",
      "Requirement already satisfied: wcwidth in /Users/gabrielsilva/Library/Python/3.9/lib/python/site-packages (from prompt-toolkit<3.1.0,>=3.0.41->IPython) (0.2.13)\n",
      "Requirement already satisfied: executing>=1.2.0 in /Users/gabrielsilva/Library/Python/3.9/lib/python/site-packages (from stack-data->IPython) (2.2.0)\n",
      "Requirement already satisfied: asttokens>=2.1.0 in /Users/gabrielsilva/Library/Python/3.9/lib/python/site-packages (from stack-data->IPython) (3.0.0)\n",
      "Requirement already satisfied: pure-eval in /Users/gabrielsilva/Library/Python/3.9/lib/python/site-packages (from stack-data->IPython) (0.2.3)\n",
      "\u001b[33mWARNING: You are using pip version 21.2.4; however, version 25.1.1 is available.\n",
      "You should consider upgrading via the '/Library/Developer/CommandLineTools/usr/bin/python3 -m pip install --upgrade pip' command.\u001b[0m\n",
      "Note: you may need to restart the kernel to use updated packages.\n"
     ]
    }
   ],
   "source": [
    "%pip install langgraph\n",
    "%pip install IPython"
   ]
  },
  {
   "cell_type": "code",
   "execution_count": null,
   "id": "30fbfc6f",
   "metadata": {},
   "outputs": [],
   "source": [
    "from typing import TypedDict, List\n",
    "from langgraph.graph import StateGraph"
   ]
  },
  {
   "cell_type": "code",
   "execution_count": 15,
   "id": "d02527b8",
   "metadata": {},
   "outputs": [],
   "source": [
    "class AgentState(TypedDict):\n",
    "    values: List[int]\n",
    "    name: str\n",
    "    result: str"
   ]
  },
  {
   "cell_type": "code",
   "execution_count": 16,
   "id": "5160b163",
   "metadata": {},
   "outputs": [],
   "source": [
    "def process_values(state: AgentState) -> AgentState:\n",
    "    \"\"\"This function process handles multiple different inputs\"\"\"\n",
    "    print(state)\n",
    "\n",
    "    state['result'] = f\"Hi there { state['name'] }! Your sum = { sum(state['values']) }\"\n",
    "\n",
    "    print(state)\n",
    "    return state"
   ]
  },
  {
   "cell_type": "code",
   "execution_count": 17,
   "id": "39af9bfa",
   "metadata": {},
   "outputs": [],
   "source": [
    "graph = StateGraph(AgentState)\n",
    "\n",
    "graph.add_node(\"processor\", process_values)\n",
    "graph.set_entry_point(\"processor\")\n",
    "graph.set_finish_point(\"processor\")\n",
    "\n",
    "app = graph.compile()"
   ]
  },
  {
   "cell_type": "code",
   "execution_count": 18,
   "id": "129f0cd7",
   "metadata": {},
   "outputs": [
    {
     "data": {
      "image/png": "[encoded data removed]",
      "text/plain": [
       "<IPython.core.display.Image object>"
      ]
     },
     "metadata": {},
     "output_type": "display_data"
    }
   ],
   "source": [
    "from IPython.display import Image, display\n",
    "display(Image(app.get_graph().draw_mermaid_png()))"
   ]
  },
  {
   "cell_type": "code",
   "execution_count": 19,
   "id": "32c17bb4",
   "metadata": {},
   "outputs": [
    {
     "name": "stdout",
     "output_type": "stream",
     "text": [
      "{'values': [1, 2, 3, 4], 'name': 'Steve'}\n",
      "{'values': [1, 2, 3, 4], 'name': 'Steve', 'result': 'Hi there Steve! Your sum = 10'}\n"
     ]
    }
   ],
   "source": [
    "ans = app.invoke({ \"values\": [1, 2, 3, 4], \"name\": \"Steve\" })"
   ]
  },
  {
   "cell_type": "code",
   "execution_count": 20,
   "id": "45440694",
   "metadata": {},
   "outputs": [
    {
     "name": "stdout",
     "output_type": "stream",
     "text": [
      "Hi there Steve! Your sum = 10\n"
     ]
    }
   ],
   "source": [
    "print(ans[\"result\"])"
   ]
  }
 ],
 "metadata": {
  "kernelspec": {
   "display_name": "Python 3",
   "language": "python",
   "name": "python3"
  },
  "language_info": {
   "codemirror_mode": {
    "name": "ipython",
    "version": 3
   },
   "file_extension": ".py",
   "mimetype": "text/x-python",
   "name": "python",
   "nbconvert_exporter": "python",
   "pygments_lexer": "ipython3",
   "version": "3.9.6"
  }
 },
 "nbformat": 4,
 "nbformat_minor": 5
}
