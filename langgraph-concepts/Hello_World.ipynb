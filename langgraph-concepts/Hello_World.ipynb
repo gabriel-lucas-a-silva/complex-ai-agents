{
 "cells": [
  {
   "cell_type": "markdown",
   "id": "3c77d2eb",
   "metadata": {},
   "source": [
    "# Hello World Agent\n",
    "Our first LangGraph graph!"
   ]
  },
  {
   "cell_type": "code",
   "execution_count": 1,
   "id": "f5f5dff7",
   "metadata": {},
   "outputs": [
    {
     "name": "stderr",
     "output_type": "stream",
     "text": [
      "/Users/gabrielsilva/Library/Python/3.9/lib/python/site-packages/urllib3/__init__.py:35: NotOpenSSLWarning: urllib3 v2 only supports OpenSSL 1.1.1+, currently the 'ssl' module is compiled with 'LibreSSL 2.8.3'. See: https://github.com/urllib3/urllib3/issues/3020\n",
      "  warnings.warn(\n"
     ]
    }
   ],
   "source": [
    "from typing import Dict, TypedDict\n",
    "from langgraph.graph import StateGraph"
   ]
  },
  {
   "cell_type": "code",
   "execution_count": 2,
   "id": "ecbd5552",
   "metadata": {},
   "outputs": [],
   "source": [
    "# We now create an AgentState - shared data structure that keeps track of information as your application runs.\n",
    "\n",
    "class AgentState(TypedDict):\n",
    "  message : str\n",
    "\n",
    "def greeting_node(state: AgentState) -> AgentState:\n",
    "  \"\"\"Simple node that adds a greeting message to the state\"\"\"\n",
    "  \n",
    "  state['message'] = \"Hey \" + state['message'] + \", how is your day going?\"\n",
    "  return state"
   ]
  },
  {
   "cell_type": "code",
   "execution_count": 3,
   "id": "1af58f95",
   "metadata": {},
   "outputs": [],
   "source": [
    "graph = StateGraph(AgentState)\n",
    "\n",
    "graph.add_node(\"greeter\", greeting_node)\n",
    "graph.set_entry_point(\"greeter\")\n",
    "graph.set_finish_point(\"greeter\")\n",
    "\n",
    "app = graph.compile()"
   ]
  },
  {
   "cell_type": "code",
   "execution_count": 4,
   "id": "34079fdc",
   "metadata": {},
   "outputs": [],
   "source": [
    "result = app.invoke({ \"message\": \"Bob\" })"
   ]
  },
  {
   "cell_type": "code",
   "execution_count": 5,
   "id": "50a41c9f",
   "metadata": {},
   "outputs": [
    {
     "data": {
      "text/plain": [
       "'Hey Bob, how is your day going?'"
      ]
     },
     "execution_count": 5,
     "metadata": {},
     "output_type": "execute_result"
    }
   ],
   "source": [
    "result['message']"
   ]
  }
 ],
 "metadata": {
  "kernelspec": {
   "display_name": "Python 3",
   "language": "python",
   "name": "python3"
  },
  "language_info": {
   "codemirror_mode": {
    "name": "ipython",
    "version": 3
   },
   "file_extension": ".py",
   "mimetype": "text/x-python",
   "name": "python",
   "nbconvert_exporter": "python",
   "pygments_lexer": "ipython3",
   "version": "3.9.6"
  }
 },
 "nbformat": 4,
 "nbformat_minor": 5
}
