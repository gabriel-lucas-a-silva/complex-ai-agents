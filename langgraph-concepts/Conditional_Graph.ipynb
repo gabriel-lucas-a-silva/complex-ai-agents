{
 "cells": [
  {
   "cell_type": "markdown",
   "id": "b0a00ac7",
   "metadata": {},
   "source": [
    "# Conditional Graph"
   ]
  },
  {
   "cell_type": "code",
   "execution_count": 7,
   "id": "4a924e1f",
   "metadata": {},
   "outputs": [
    {
     "name": "stdout",
     "output_type": "stream",
     "text": [
      "Defaulting to user installation because normal site-packages is not writeable\n",
      "Requirement already satisfied: langgraph in /Users/gabrielsilva/Library/Python/3.9/lib/python/site-packages (0.4.8)\n",
      "Requirement already satisfied: langgraph-checkpoint>=2.0.26 in /Users/gabrielsilva/Library/Python/3.9/lib/python/site-packages (from langgraph) (2.0.26)\n",
      "Requirement already satisfied: xxhash>=3.5.0 in /Users/gabrielsilva/Library/Python/3.9/lib/python/site-packages (from langgraph) (3.5.0)\n",
      "Requirement already satisfied: langchain-core>=0.1 in /Users/gabrielsilva/Library/Python/3.9/lib/python/site-packages (from langgraph) (0.3.65)\n",
      "Requirement already satisfied: langgraph-sdk>=0.1.42 in /Users/gabrielsilva/Library/Python/3.9/lib/python/site-packages (from langgraph) (0.1.70)\n",
      "Requirement already satisfied: langgraph-prebuilt>=0.2.0 in /Users/gabrielsilva/Library/Python/3.9/lib/python/site-packages (from langgraph) (0.2.2)\n",
      "Requirement already satisfied: pydantic>=2.7.4 in /Users/gabrielsilva/Library/Python/3.9/lib/python/site-packages (from langgraph) (2.11.5)\n",
      "Requirement already satisfied: langsmith<0.4,>=0.3.45 in /Users/gabrielsilva/Library/Python/3.9/lib/python/site-packages (from langchain-core>=0.1->langgraph) (0.3.45)\n",
      "Requirement already satisfied: packaging<25,>=23.2 in /Users/gabrielsilva/Library/Python/3.9/lib/python/site-packages (from langchain-core>=0.1->langgraph) (24.2)\n",
      "Requirement already satisfied: PyYAML>=5.3 in /Users/gabrielsilva/Library/Python/3.9/lib/python/site-packages (from langchain-core>=0.1->langgraph) (6.0.2)\n",
      "Requirement already satisfied: tenacity!=8.4.0,<10.0.0,>=8.1.0 in /Users/gabrielsilva/Library/Python/3.9/lib/python/site-packages (from langchain-core>=0.1->langgraph) (9.1.2)\n",
      "Requirement already satisfied: typing-extensions>=4.7 in /Users/gabrielsilva/Library/Python/3.9/lib/python/site-packages (from langchain-core>=0.1->langgraph) (4.14.0)\n",
      "Requirement already satisfied: jsonpatch<2.0,>=1.33 in /Users/gabrielsilva/Library/Python/3.9/lib/python/site-packages (from langchain-core>=0.1->langgraph) (1.33)\n",
      "Requirement already satisfied: jsonpointer>=1.9 in /Users/gabrielsilva/Library/Python/3.9/lib/python/site-packages (from jsonpatch<2.0,>=1.33->langchain-core>=0.1->langgraph) (3.0.0)\n",
      "Requirement already satisfied: ormsgpack<2.0.0,>=1.8.0 in /Users/gabrielsilva/Library/Python/3.9/lib/python/site-packages (from langgraph-checkpoint>=2.0.26->langgraph) (1.10.0)\n",
      "Requirement already satisfied: httpx>=0.25.2 in /Users/gabrielsilva/Library/Python/3.9/lib/python/site-packages (from langgraph-sdk>=0.1.42->langgraph) (0.28.1)\n",
      "Requirement already satisfied: orjson>=3.10.1 in /Users/gabrielsilva/Library/Python/3.9/lib/python/site-packages (from langgraph-sdk>=0.1.42->langgraph) (3.10.18)\n",
      "Requirement already satisfied: certifi in /Users/gabrielsilva/Library/Python/3.9/lib/python/site-packages (from httpx>=0.25.2->langgraph-sdk>=0.1.42->langgraph) (2025.4.26)\n",
      "Requirement already satisfied: httpcore==1.* in /Users/gabrielsilva/Library/Python/3.9/lib/python/site-packages (from httpx>=0.25.2->langgraph-sdk>=0.1.42->langgraph) (1.0.9)\n",
      "Requirement already satisfied: idna in /Users/gabrielsilva/Library/Python/3.9/lib/python/site-packages (from httpx>=0.25.2->langgraph-sdk>=0.1.42->langgraph) (3.10)\n",
      "Requirement already satisfied: anyio in /Users/gabrielsilva/Library/Python/3.9/lib/python/site-packages (from httpx>=0.25.2->langgraph-sdk>=0.1.42->langgraph) (4.9.0)\n",
      "Requirement already satisfied: h11>=0.16 in /Users/gabrielsilva/Library/Python/3.9/lib/python/site-packages (from httpcore==1.*->httpx>=0.25.2->langgraph-sdk>=0.1.42->langgraph) (0.16.0)\n",
      "Requirement already satisfied: zstandard<0.24.0,>=0.23.0 in /Users/gabrielsilva/Library/Python/3.9/lib/python/site-packages (from langsmith<0.4,>=0.3.45->langchain-core>=0.1->langgraph) (0.23.0)\n",
      "Requirement already satisfied: requests-toolbelt<2.0.0,>=1.0.0 in /Users/gabrielsilva/Library/Python/3.9/lib/python/site-packages (from langsmith<0.4,>=0.3.45->langchain-core>=0.1->langgraph) (1.0.0)\n",
      "Requirement already satisfied: requests<3,>=2 in /Users/gabrielsilva/Library/Python/3.9/lib/python/site-packages (from langsmith<0.4,>=0.3.45->langchain-core>=0.1->langgraph) (2.32.4)\n",
      "Requirement already satisfied: pydantic-core==2.33.2 in /Users/gabrielsilva/Library/Python/3.9/lib/python/site-packages (from pydantic>=2.7.4->langgraph) (2.33.2)\n",
      "Requirement already satisfied: typing-inspection>=0.4.0 in /Users/gabrielsilva/Library/Python/3.9/lib/python/site-packages (from pydantic>=2.7.4->langgraph) (0.4.1)\n",
      "Requirement already satisfied: annotated-types>=0.6.0 in /Users/gabrielsilva/Library/Python/3.9/lib/python/site-packages (from pydantic>=2.7.4->langgraph) (0.7.0)\n",
      "Requirement already satisfied: charset_normalizer<4,>=2 in /Users/gabrielsilva/Library/Python/3.9/lib/python/site-packages (from requests<3,>=2->langsmith<0.4,>=0.3.45->langchain-core>=0.1->langgraph) (3.4.2)\n",
      "Requirement already satisfied: urllib3<3,>=1.21.1 in /Users/gabrielsilva/Library/Python/3.9/lib/python/site-packages (from requests<3,>=2->langsmith<0.4,>=0.3.45->langchain-core>=0.1->langgraph) (2.4.0)\n",
      "Requirement already satisfied: exceptiongroup>=1.0.2 in /Users/gabrielsilva/Library/Python/3.9/lib/python/site-packages (from anyio->httpx>=0.25.2->langgraph-sdk>=0.1.42->langgraph) (1.3.0)\n",
      "Requirement already satisfied: sniffio>=1.1 in /Users/gabrielsilva/Library/Python/3.9/lib/python/site-packages (from anyio->httpx>=0.25.2->langgraph-sdk>=0.1.42->langgraph) (1.3.1)\n",
      "\u001b[33mWARNING: You are using pip version 21.2.4; however, version 25.1.1 is available.\n",
      "You should consider upgrading via the '/Library/Developer/CommandLineTools/usr/bin/python3 -m pip install --upgrade pip' command.\u001b[0m\n",
      "Note: you may need to restart the kernel to use updated packages.\n",
      "Defaulting to user installation because normal site-packages is not writeable\n",
      "Requirement already satisfied: IPython in /Users/gabrielsilva/Library/Python/3.9/lib/python/site-packages (8.18.1)\n",
      "Requirement already satisfied: typing-extensions in /Users/gabrielsilva/Library/Python/3.9/lib/python/site-packages (from IPython) (4.14.0)\n",
      "Requirement already satisfied: traitlets>=5 in /Users/gabrielsilva/Library/Python/3.9/lib/python/site-packages (from IPython) (5.14.3)\n",
      "Requirement already satisfied: pygments>=2.4.0 in /Users/gabrielsilva/Library/Python/3.9/lib/python/site-packages (from IPython) (2.19.1)\n",
      "Requirement already satisfied: prompt-toolkit<3.1.0,>=3.0.41 in /Users/gabrielsilva/Library/Python/3.9/lib/python/site-packages (from IPython) (3.0.51)\n",
      "Requirement already satisfied: decorator in /Users/gabrielsilva/Library/Python/3.9/lib/python/site-packages (from IPython) (5.2.1)\n",
      "Requirement already satisfied: jedi>=0.16 in /Users/gabrielsilva/Library/Python/3.9/lib/python/site-packages (from IPython) (0.19.2)\n",
      "Requirement already satisfied: pexpect>4.3 in /Users/gabrielsilva/Library/Python/3.9/lib/python/site-packages (from IPython) (4.9.0)\n",
      "Requirement already satisfied: exceptiongroup in /Users/gabrielsilva/Library/Python/3.9/lib/python/site-packages (from IPython) (1.3.0)\n",
      "Requirement already satisfied: stack-data in /Users/gabrielsilva/Library/Python/3.9/lib/python/site-packages (from IPython) (0.6.3)\n",
      "Requirement already satisfied: matplotlib-inline in /Users/gabrielsilva/Library/Python/3.9/lib/python/site-packages (from IPython) (0.1.7)\n",
      "Requirement already satisfied: parso<0.9.0,>=0.8.4 in /Users/gabrielsilva/Library/Python/3.9/lib/python/site-packages (from jedi>=0.16->IPython) (0.8.4)\n",
      "Requirement already satisfied: ptyprocess>=0.5 in /Users/gabrielsilva/Library/Python/3.9/lib/python/site-packages (from pexpect>4.3->IPython) (0.7.0)\n",
      "Requirement already satisfied: wcwidth in /Users/gabrielsilva/Library/Python/3.9/lib/python/site-packages (from prompt-toolkit<3.1.0,>=3.0.41->IPython) (0.2.13)\n",
      "Requirement already satisfied: pure-eval in /Users/gabrielsilva/Library/Python/3.9/lib/python/site-packages (from stack-data->IPython) (0.2.3)\n",
      "Requirement already satisfied: asttokens>=2.1.0 in /Users/gabrielsilva/Library/Python/3.9/lib/python/site-packages (from stack-data->IPython) (3.0.0)\n",
      "Requirement already satisfied: executing>=1.2.0 in /Users/gabrielsilva/Library/Python/3.9/lib/python/site-packages (from stack-data->IPython) (2.2.0)\n",
      "\u001b[33mWARNING: You are using pip version 21.2.4; however, version 25.1.1 is available.\n",
      "You should consider upgrading via the '/Library/Developer/CommandLineTools/usr/bin/python3 -m pip install --upgrade pip' command.\u001b[0m\n",
      "Note: you may need to restart the kernel to use updated packages.\n"
     ]
    }
   ],
   "source": [
    "%pip install langgraph\n",
    "%pip install IPython"
   ]
  },
  {
   "cell_type": "code",
   "execution_count": 8,
   "id": "75412b75",
   "metadata": {},
   "outputs": [],
   "source": [
    "from typing import TypedDict\n",
    "from langgraph.graph import StateGraph, START, END"
   ]
  },
  {
   "cell_type": "code",
   "execution_count": 9,
   "id": "358ce65c",
   "metadata": {},
   "outputs": [],
   "source": [
    "class AgentState(TypedDict):\n",
    "    number1: int\n",
    "    operation: str\n",
    "    number2: int\n",
    "    finalNumber: int"
   ]
  },
  {
   "cell_type": "code",
   "execution_count": 10,
   "id": "c697e1fe",
   "metadata": {},
   "outputs": [],
   "source": [
    "def adder(state: AgentState) -> AgentState:\n",
    "    \"\"\"This node adds the 2 numbers\"\"\"\n",
    "    state['finalNumber'] = state['number1'] + state['number2']\n",
    "    return state\n",
    "\n",
    "def subtractor(state: AgentState) -> AgentState:\n",
    "    \"\"\"This node subtracts the 2 numbers\"\"\"\n",
    "    state['finalNumber'] = state['number1'] - state['number2']\n",
    "    return state\n",
    "\n",
    "def decide_next_node(state: AgentState) -> AgentState:\n",
    "    \"\"\"This node will select the next node of the graph\"\"\"\n",
    "\n",
    "    if state['operation'] == \"+\":\n",
    "        return \"addition_operation\" # return the edge\n",
    "    \n",
    "    elif state['operation'] == '-':\n",
    "        return 'subtraction_operation'"
   ]
  },
  {
   "cell_type": "code",
   "execution_count": 13,
   "id": "ca5c4ed5",
   "metadata": {},
   "outputs": [],
   "source": [
    "graph = StateGraph(AgentState)\n",
    "\n",
    "graph.add_node(\"add_node\", adder)\n",
    "graph.add_node(\"subtract_node\", subtractor)\n",
    "graph.add_node(\"router\", lambda state:state) # passthrough function\n",
    "\n",
    "graph.add_edge(START, \"router\")\n",
    "\n",
    "graph.add_conditional_edges(\n",
    "    \"router\", # source\n",
    "    decide_next_node, \n",
    "    {\n",
    "        \"addition_operation\": \"add_node\",\n",
    "        \"substraction_operation\": \"subtract_node\"\n",
    "    }\n",
    ")\n",
    "\n",
    "graph.add_edge(\"add_node\", END)\n",
    "graph.add_edge(\"subtract_node\", END)\n",
    "\n",
    "app = graph.compile()"
   ]
  },
  {
   "cell_type": "code",
   "execution_count": 14,
   "id": "fe23d356",
   "metadata": {},
   "outputs": [
    {
     "data": {
      "image/png": "[encoded data removed]",
      "text/plain": [
       "<IPython.core.display.Image object>"
      ]
     },
     "metadata": {},
     "output_type": "display_data"
    }
   ],
   "source": [
    "from IPython.display import Image, display\n",
    "display(Image(app.get_graph().draw_mermaid_png()))"
   ]
  },
  {
   "cell_type": "code",
   "execution_count": 16,
   "id": "d4eb65a8",
   "metadata": {},
   "outputs": [
    {
     "name": "stdout",
     "output_type": "stream",
     "text": [
      "{'number1': 10, 'operation': '+', 'number2': 5, 'finalNumber': 15}\n"
     ]
    }
   ],
   "source": [
    "initial_state_1 = AgentState(number1=10, operation=\"+\", number2=5)\n",
    "print(app.invoke(initial_state_1))"
   ]
  }
 ],
 "metadata": {
  "kernelspec": {
   "display_name": "Python 3",
   "language": "python",
   "name": "python3"
  },
  "language_info": {
   "codemirror_mode": {
    "name": "ipython",
    "version": 3
   },
   "file_extension": ".py",
   "mimetype": "text/x-python",
   "name": "python",
   "nbconvert_exporter": "python",
   "pygments_lexer": "ipython3",
   "version": "3.9.6"
  }
 },
 "nbformat": 4,
 "nbformat_minor": 5
}
